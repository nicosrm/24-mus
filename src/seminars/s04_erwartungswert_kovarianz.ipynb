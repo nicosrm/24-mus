{
 "cells": [
  {
   "cell_type": "markdown",
   "metadata": {},
   "source": [
    "# Multi-variante Erwartungswerte und Kovarianzen\n",
    "\n",
    "$$\\mathbf{X} = \\begin{pmatrix}1&3\\\\ 3&3\\\\ 10&5\\\\ 14&3\\end{pmatrix} = \\begin{pmatrix} \\vec{x}_1 \\\\ \\vec{x}_2 \\\\ \\vec{x}_3 \\\\ \\vec{x}_4 \\end{pmatrix},~~ \\mathbf{t} = \\begin{pmatrix}1\\\\1\\\\-1\\\\-1\\end{pmatrix}$$\n",
    "\n",
    "$$\\Rightarrow C_1 \\leftrightarrow t=1,~C_2 \\leftrightarrow t=-1$$"
   ]
  },
  {
   "cell_type": "code",
   "execution_count": 1,
   "metadata": {},
   "outputs": [],
   "source": [
    "import numpy as np\n",
    "import matplotlib.pyplot as plt"
   ]
  },
  {
   "cell_type": "code",
   "execution_count": 2,
   "metadata": {},
   "outputs": [],
   "source": [
    "x1 = np.array([1, 3, 10, 14])\n",
    "x2 = np.array([3, 3, 5, 3])\n",
    "X = np.vstack([x1, x2]).T"
   ]
  },
  {
   "cell_type": "code",
   "execution_count": 3,
   "metadata": {},
   "outputs": [
    {
     "data": {
      "image/png": "[encoded data removed]",
      "text/plain": [
       "<Figure size 640x480 with 1 Axes>"
      ]
     },
     "metadata": {},
     "output_type": "display_data"
    }
   ],
   "source": [
    "plt.scatter(x1[:2], x2[:2], color='purple', label='$C_1$')\n",
    "plt.scatter(x1[2:], x2[2:], color='green', label='$C_2$')\n",
    "\n",
    "plt.plot(x1[:2], x2[:2], '--', color='plum')\n",
    "plt.plot(x1[2:], x2[2:], '--', color='lightgreen')\n",
    "\n",
    "plt.plot(2, 3, 'x', color='purple')\n",
    "plt.plot(12, 4, 'x', color='green')\n",
    "\n",
    "plt.annotate(r'$\\vec{\\mu}_1$', xy=(1.9, 3.1), color='purple')\n",
    "plt.annotate(r'$\\vec{\\mu}_2$', xy=(11.9, 4.1), color='green')\n",
    "\n",
    "plt.axis([0, 15, 0, 5.5])\n",
    "plt.legend()\n",
    "plt.show()"
   ]
  },
  {
   "cell_type": "markdown",
   "metadata": {},
   "source": [
    "## Erwartungswert\n",
    "\n",
    "$$\\vec{\\mu}_i = \\frac1n \\sum_{j=1}^n \\vec{x}_j$$\n",
    "\n",
    "$$\\Rightarrow \\vec{\\mu}_1 = \\frac12 (\\vec{x}_1 + \\vec{x}_2) = \\frac12 \\cdot \\left( \\begin{pmatrix}1 \\\\ 3\\end{pmatrix} + \\begin{pmatrix}3 \\\\ 3\\end{pmatrix} \\right) = \\begin{pmatrix}2\\\\3\\end{pmatrix}$$\n",
    "\n",
    "\n",
    "$$\\Rightarrow \\vec{\\mu}_2 = \\frac12 (\\vec{x}_3 + \\vec{x}_4) = \\frac12 \\cdot \\left( \\begin{pmatrix}10 \\\\ 5\\end{pmatrix} + \\begin{pmatrix}14 \\\\ 3\\end{pmatrix} \\right) = \\begin{pmatrix}12\\\\4\\end{pmatrix}$$"
   ]
  },
  {
   "cell_type": "markdown",
   "metadata": {},
   "source": [
    "## Kovarianz\n",
    "\n",
    "$$\\Sigma_i = \\mathbb{E} \\left( (\\vec{x}_i - \\vec{\\mu}_i) (\\vec{x}_i - \\vec{\\mu}_i)^{\\operatorname{T}} \\right)$$\n",
    "\n",
    "$$\\hat{\\Sigma}_i := \\frac{1}{n-1} \\sum_{j:~x_j\\in C_i} (\\vec{x}_j - \\vec{\\hat\\mu}_i) (\\vec{x}_j - \\vec{\\hat\\mu}_i)^{\\operatorname{T}}$$\n",
    "\n",
    "$$\n",
    "\\begin{align*}\n",
    "\\Rightarrow \\Sigma_1 &\\approx \\frac{1}{2-1} \\left( \n",
    "        \\left( \\vec{x}_1 - \\vec{\\mu}_1 \\right) \\cdot \\left( \\vec{x}_1 - \\vec{\\mu}_1 \\right)^{\\operatorname{T}} +\n",
    "        \\left( \\vec{x}_2 - \\vec{\\mu}_1 \\right) \\cdot \\left( \\vec{x}_2 - \\vec{\\mu}_1 \\right)^{\\operatorname{T}}\n",
    "\\right) \\\\\n",
    "\n",
    "&\\approx \\frac{1}{2-1} \\left(\n",
    "        \\left( \\begin{pmatrix}1\\\\3\\end{pmatrix} - \\begin{pmatrix}2\\\\3\\end{pmatrix} \\right) \\cdot \\left( \\begin{pmatrix}1\\\\3\\end{pmatrix} - \\begin{pmatrix}2\\\\3\\end{pmatrix} \\right)^{\\operatorname{T}} +\n",
    "        \\left( \\begin{pmatrix}3\\\\3\\end{pmatrix} - \\begin{pmatrix}2\\\\3\\end{pmatrix} \\right) \\cdot \\left( \\begin{pmatrix}3\\\\3\\end{pmatrix} - \\begin{pmatrix}2\\\\3\\end{pmatrix} \\right)^{\\operatorname{T}}\n",
    "\\right) \\\\\n",
    "\n",
    "&\\approx \\left( \\begin{pmatrix}-1\\\\0\\end{pmatrix} \\cdot \\begin{pmatrix}-1&0\\end{pmatrix} \\right) +\n",
    "        \\left( \\begin{pmatrix}1\\\\0\\end{pmatrix} \\cdot \\begin{pmatrix}1&0\\end{pmatrix} \\right) \\\\\n",
    "\n",
    "&\\approx \\begin{pmatrix}1&0 \\\\ 0&0\\end{pmatrix} + \\begin{pmatrix}1&0 \\\\ 0&0\\end{pmatrix} \\\\\n",
    "\n",
    "\\Sigma_1 &\\approx \\begin{pmatrix}2&0 \\\\ 0&0\\end{pmatrix}\n",
    "\\\\~\\\\\n",
    "\\Rightarrow \\Sigma_2 &\\approx \\frac{1}{2-1} \\left( \n",
    "        \\left( \\vec{x}_3 - \\vec{\\mu}_2 \\right) \\cdot \\left( \\vec{x}_3 - \\vec{\\mu}_2 \\right)^{\\operatorname{T}} +\n",
    "        \\left( \\vec{x}_4 - \\vec{\\mu}_2 \\right) \\cdot \\left( \\vec{x}_4 - \\vec{\\mu}_2 \\right)^{\\operatorname{T}}\n",
    "\\right) \\\\\n",
    "\n",
    "&\\approx \\frac{1}{2-1} \\left(\n",
    "        \\left( \\begin{pmatrix}10\\\\5\\end{pmatrix} - \\begin{pmatrix}12\\\\4\\end{pmatrix} \\right) \\cdot \\left( \\begin{pmatrix}10\\\\5\\end{pmatrix} - \\begin{pmatrix}12\\\\4\\end{pmatrix} \\right)^{\\operatorname{T}} +\n",
    "        \\left( \\begin{pmatrix}14\\\\3\\end{pmatrix} - \\begin{pmatrix}12\\\\4\\end{pmatrix} \\right) \\cdot \\left( \\begin{pmatrix}14\\\\3\\end{pmatrix} - \\begin{pmatrix}12\\\\4\\end{pmatrix} \\right)^{\\operatorname{T}}\n",
    "\\right) \\\\\n",
    "\n",
    "&\\approx \\left( \\begin{pmatrix}-2\\\\1\\end{pmatrix} \\cdot \\begin{pmatrix}-2&1\\end{pmatrix} \\right) +\n",
    "        \\left( \\begin{pmatrix}2\\\\-1\\end{pmatrix} \\cdot \\begin{pmatrix}2&-1\\end{pmatrix} \\right) \\\\\n",
    "\n",
    "&\\approx \\begin{pmatrix}4&-2 \\\\ -2&1\\end{pmatrix} + \\begin{pmatrix}4&-2 \\\\ -2&1\\end{pmatrix} \\\\\n",
    "\n",
    "\\Sigma_1 &\\approx \\begin{pmatrix}8&-4 \\\\ -4&2\\end{pmatrix}\n",
    "\\end{align*}\n",
    "$$"
   ]
  }
 ],
 "metadata": {
  "kernelspec": {
   "display_name": ".venv",
   "language": "python",
   "name": "python3"
  },
  "language_info": {
   "codemirror_mode": {
    "name": "ipython",
    "version": 3
   },
   "file_extension": ".py",
   "mimetype": "text/x-python",
   "name": "python",
   "nbconvert_exporter": "python",
   "pygments_lexer": "ipython3",
   "version": "3.12.3"
  }
 },
 "nbformat": 4,
 "nbformat_minor": 2
}
